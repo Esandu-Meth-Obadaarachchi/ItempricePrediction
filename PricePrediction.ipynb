{
  "nbformat": 4,
  "nbformat_minor": 0,
  "metadata": {
    "colab": {
      "provenance": [],
      "authorship_tag": "ABX9TyPB/z58Iz+l0mIZs4qoX4jb",
      "include_colab_link": true
    },
    "kernelspec": {
      "name": "python3",
      "display_name": "Python 3"
    },
    "language_info": {
      "name": "python"
    }
  },
  "cells": [
    {
      "cell_type": "markdown",
      "metadata": {
        "id": "view-in-github",
        "colab_type": "text"
      },
      "source": [
        "<a href=\"https://colab.research.google.com/github/Esandu-Meth-Obadaarachchi/ItempricePrediction/blob/main/PricePrediction.ipynb\" target=\"_parent\"><img src=\"https://colab.research.google.com/assets/colab-badge.svg\" alt=\"Open In Colab\"/></a>"
      ]
    },
    {
      "cell_type": "code",
      "execution_count": 1,
      "metadata": {
        "id": "GqoYZxE6Yzw0"
      },
      "outputs": [],
      "source": [
        "import pandas as pd\n",
        "import numpy as np\n",
        "from sklearn.preprocessing import StandardScaler\n",
        "from sklearn.impute import SimpleImputer\n",
        "from sklearn.feature_extraction.text import TfidfVectorizer\n",
        "from sklearn.metrics.pairwise import cosine_similarity\n",
        "from sklearn.neighbors import LocalOutlierFactor"
      ]
    },
    {
      "cell_type": "code",
      "source": [
        "data = pd.DataFrame({\n",
        "    \"Type\": [\n",
        "        \"Battery\", \"Battery\", \"Battery\", \"Inverter\", \"Inverter\", \"Rectifier\", \"Rectifier\", \"Solar Panel\",\n",
        "        \"Solar Panel\", \"Generator\", \"Generator\", \"Precision AC\", \"Precision AC\", \"Battery\", \"Battery\",\n",
        "        \"Inverter\", \"Inverter\", \"Rectifier\", \"Rectifier\", \"Solar Panel\", \"Solar Panel\", \"Generator\",\n",
        "        \"Generator\", \"Precision AC\", \"Precision AC\"\n",
        "    ],\n",
        "    \"Supplier\": [\n",
        "        \"A\", \"B\", \"C\", \"D\", \"E\", \"F\", \"G\", \"H\", \"I\", \"J\", \"K\", \"L\", \"M\", \"N\", \"O\", \"P\", \"Q\", \"R\", \"S\",\n",
        "        \"T\", \"U\", \"V\", \"W\", \"X\", \"Y\"\n",
        "    ],\n",
        "    \"Item Name\": [\n",
        "        \"Battery 120AH\", \"Battery 90AH\", \"Battery 150AH\", \"Inverter 3KW\", \"Inverter 5KW\",\n",
        "        \"Rectifier 48V\", \"Rectifier 24V\", \"Solar Panel 200W\", \"Solar Panel 300W\", \"Generator 10KVA\",\n",
        "        \"Generator 20KVA\", \"Precision AC 3 Ton\", \"Precision AC 5 Ton\", \"Battery 110AH\",\n",
        "        \"Battery 100AH\", \"Inverter 2KW\", \"Inverter 6KW\", \"Rectifier 48V High Output\",\n",
        "        \"Rectifier 12V\", \"Solar Panel 250W\", \"Solar Panel 500W\", \"Generator 15KVA\", \"Generator 25KVA\",\n",
        "        \"Precision AC 2 Ton\", \"Precision AC 4 Ton\"\n",
        "    ],\n",
        "    \"Total Price\": [\n",
        "        10000, 8000, 15000, 30000, 50000, 18000, 12000, 25000, 37000, 75000, 120000, 90000, 150000,\n",
        "        9500, 8500, 28000, 52000, 20000, 10000, 30000, 60000, 80000, 130000, 85000, 140000\n",
        "    ],\n",
        "    \"Quantity\": [\n",
        "        2, 1, 3, 1, 1, 2, 2, 3, 2, 1, 1, 2, 3, 1, 1, 1, 1, 2, 1, 3, 2, 1, 1, 2, 3\n",
        "    ],\n",
        "    \"Rate\": [\n",
        "        5000, 8000, 5000, 30000, 50000, 9000, 6000, 8300, 18500, 75000, 120000, 45000, 50000,\n",
        "        9500, 8500, 28000, 52000, 10000, 10000, 10000, 30000, 80000, 130000, 42500, 46666\n",
        "    ],\n",
        "    \"Discount\": [\n",
        "        5, 0, 10, 15, 20, 5, 0, 10, 15, 0, 0, 10, 15, 5, 5, 0, 20, 0, 0, 10, 20, 5, 5, 10, 15\n",
        "    ],\n",
        "    \"Warranty\": [\n",
        "        \"2 years\", \"1 year\", \"3 years\", \"2 years\", \"5 years\", \"1 year\", \"1 year\", \"10 years\",\n",
        "        \"15 years\", \"3 years\", \"5 years\", \"10 years\", \"15 years\", \"2 years\", \"2 years\", \"3 years\",\n",
        "        \"5 years\", \"1 year\", \"1 year\", \"12 years\", \"15 years\", \"3 years\", \"5 years\", \"7 years\", \"10 years\"\n",
        "    ]\n",
        "})\n",
        "\n",
        "print(data)"
      ],
      "metadata": {
        "colab": {
          "base_uri": "https://localhost:8080/"
        },
        "id": "TxOIN33LaC3w",
        "outputId": "86f22d54-ee69-4e55-efdd-d29f2cc31d01"
      },
      "execution_count": 24,
      "outputs": [
        {
          "output_type": "stream",
          "name": "stdout",
          "text": [
            "            Type Supplier                  Item Name  Total Price  Quantity  \\\n",
            "0        Battery        A              Battery 120AH        10000         2   \n",
            "1        Battery        B               Battery 90AH         8000         1   \n",
            "2        Battery        C              Battery 150AH        15000         3   \n",
            "3       Inverter        D               Inverter 3KW        30000         1   \n",
            "4       Inverter        E               Inverter 5KW        50000         1   \n",
            "5      Rectifier        F              Rectifier 48V        18000         2   \n",
            "6      Rectifier        G              Rectifier 24V        12000         2   \n",
            "7    Solar Panel        H           Solar Panel 200W        25000         3   \n",
            "8    Solar Panel        I           Solar Panel 300W        37000         2   \n",
            "9      Generator        J            Generator 10KVA        75000         1   \n",
            "10     Generator        K            Generator 20KVA       120000         1   \n",
            "11  Precision AC        L         Precision AC 3 Ton        90000         2   \n",
            "12  Precision AC        M         Precision AC 5 Ton       150000         3   \n",
            "13       Battery        N              Battery 110AH         9500         1   \n",
            "14       Battery        O              Battery 100AH         8500         1   \n",
            "15      Inverter        P               Inverter 2KW        28000         1   \n",
            "16      Inverter        Q               Inverter 6KW        52000         1   \n",
            "17     Rectifier        R  Rectifier 48V High Output        20000         2   \n",
            "18     Rectifier        S              Rectifier 12V        10000         1   \n",
            "19   Solar Panel        T           Solar Panel 250W        30000         3   \n",
            "20   Solar Panel        U           Solar Panel 500W        60000         2   \n",
            "21     Generator        V            Generator 15KVA        80000         1   \n",
            "22     Generator        W            Generator 25KVA       130000         1   \n",
            "23  Precision AC        X         Precision AC 2 Ton        85000         2   \n",
            "24  Precision AC        Y         Precision AC 4 Ton       140000         3   \n",
            "\n",
            "      Rate  Discount  Warranty  \n",
            "0     5000         5   2 years  \n",
            "1     8000         0    1 year  \n",
            "2     5000        10   3 years  \n",
            "3    30000        15   2 years  \n",
            "4    50000        20   5 years  \n",
            "5     9000         5    1 year  \n",
            "6     6000         0    1 year  \n",
            "7     8300        10  10 years  \n",
            "8    18500        15  15 years  \n",
            "9    75000         0   3 years  \n",
            "10  120000         0   5 years  \n",
            "11   45000        10  10 years  \n",
            "12   50000        15  15 years  \n",
            "13    9500         5   2 years  \n",
            "14    8500         5   2 years  \n",
            "15   28000         0   3 years  \n",
            "16   52000        20   5 years  \n",
            "17   10000         0    1 year  \n",
            "18   10000         0    1 year  \n",
            "19   10000        10  12 years  \n",
            "20   30000        20  15 years  \n",
            "21   80000         5   3 years  \n",
            "22  130000         5   5 years  \n",
            "23   42500        10   7 years  \n",
            "24   46666        15  10 years  \n"
          ]
        }
      ]
    },
    {
      "cell_type": "code",
      "source": [
        "# Step 1.1: Handle Missing Values\n",
        "from sklearn.impute import SimpleImputer\n",
        "import numpy as np\n",
        "\n",
        "# Fill missing or zero 'Rate' using 'Total Price / Quantity'\n",
        "def calculate_rate(row):\n",
        "    if pd.isna(row['Rate']) or row['Rate'] == 0:\n",
        "        if row['Quantity'] > 0:  # Avoid division by zero\n",
        "            return row['Total Price'] / row['Quantity']\n",
        "    return row['Rate']\n",
        "\n",
        "data['Rate'] = data.apply(calculate_rate, axis=1)\n",
        "\n",
        "# Fill missing values for 'Rate' and 'Discount' using mean imputation\n",
        "imputer = SimpleImputer(strategy='mean')\n",
        "data[['Rate', 'Discount']] = imputer.fit_transform(data[['Rate', 'Discount']])"
      ],
      "metadata": {
        "id": "UahrFhroaC19"
      },
      "execution_count": 11,
      "outputs": []
    },
    {
      "cell_type": "code",
      "source": [
        "# Step 1: Normalize Item Names using TF-IDF\n",
        "vectorizer = TfidfVectorizer()\n",
        "item_vectors = vectorizer.fit_transform(data['Item Name'])\n",
        "similarity_matrix = cosine_similarity(item_vectors)\n",
        "data['Cluster'] = np.argmax(similarity_matrix, axis=1)  # Cluster similar items"
      ],
      "metadata": {
        "id": "zNgbPq33aCz7"
      },
      "execution_count": 12,
      "outputs": []
    },
    {
      "cell_type": "code",
      "source": [
        "# Step 1.3: Adjust for Inflation (Assume inflation index is provided)\n",
        "# Example inflation adjustment (factor = 1.02 for 2% inflation rate)\n",
        "inflation_factor = 1.02\n",
        "data['Inflation Adjusted Price'] = data['Rate'] * inflation_factor"
      ],
      "metadata": {
        "id": "Do4ckFLhaCvL"
      },
      "execution_count": 13,
      "outputs": []
    },
    {
      "cell_type": "code",
      "source": [
        "print(\"Preprocessed Data:\")\n",
        "print(data)"
      ],
      "metadata": {
        "colab": {
          "base_uri": "https://localhost:8080/"
        },
        "id": "U6iWjjRyaCsp",
        "outputId": "a9292d1b-8ef4-4f62-9d1f-c49a2fba1274"
      },
      "execution_count": 14,
      "outputs": [
        {
          "output_type": "stream",
          "name": "stdout",
          "text": [
            "Preprocessed Data:\n",
            "            Type Supplier                  Item Name  Total Price  Quantity  \\\n",
            "0        Battery        A              Battery 120AH        10000         2   \n",
            "1        Battery        B               Battery 90AH         8000         1   \n",
            "2        Battery        C              Battery 150AH        15000         3   \n",
            "3       Inverter        D               Inverter 3KW        30000         1   \n",
            "4       Inverter        E               Inverter 5KW        50000         1   \n",
            "5      Rectifier        F              Rectifier 48V        18000         2   \n",
            "6      Rectifier        G              Rectifier 24V        12000         2   \n",
            "7    Solar Panel        H           Solar Panel 200W        25000         3   \n",
            "8    Solar Panel        I           Solar Panel 300W        37000         2   \n",
            "9      Generator        J            Generator 10KVA        75000         1   \n",
            "10     Generator        K            Generator 20KVA       120000         1   \n",
            "11  Precision AC        L         Precision AC 3 Ton        90000         2   \n",
            "12  Precision AC        M         Precision AC 5 Ton       150000         3   \n",
            "13       Battery        N              Battery 110AH         9500         1   \n",
            "14       Battery        O              Battery 100AH         8500         1   \n",
            "15      Inverter        P               Inverter 2KW        28000         1   \n",
            "16      Inverter        Q               Inverter 6KW        52000         1   \n",
            "17     Rectifier        R  Rectifier 48V High Output        20000         2   \n",
            "18     Rectifier        S              Rectifier 12V        10000         1   \n",
            "19   Solar Panel        T           Solar Panel 250W        30000         3   \n",
            "20   Solar Panel        U           Solar Panel 500W        60000         2   \n",
            "21     Generator        V            Generator 15KVA        80000         1   \n",
            "22     Generator        W            Generator 25KVA       130000         1   \n",
            "23  Precision AC        X         Precision AC 2 Ton        85000         2   \n",
            "24  Precision AC        Y         Precision AC 4 Ton       140000         3   \n",
            "\n",
            "        Rate  Discount  Warranty  Cluster  Inflation Adjusted Price  \n",
            "0     5000.0       5.0   2 years        0                   5100.00  \n",
            "1     8000.0       0.0    1 year        1                   8160.00  \n",
            "2     5000.0      10.0   3 years        2                   5100.00  \n",
            "3    30000.0      15.0   2 years        3                  30600.00  \n",
            "4    50000.0      20.0   5 years        4                  51000.00  \n",
            "5     9000.0       5.0    1 year        5                   9180.00  \n",
            "6     6000.0       0.0    1 year        6                   6120.00  \n",
            "7     8300.0      10.0  10 years        7                   8466.00  \n",
            "8    18500.0      15.0  15 years        8                  18870.00  \n",
            "9    75000.0       0.0   3 years        9                  76500.00  \n",
            "10  120000.0       0.0   5 years       10                 122400.00  \n",
            "11   45000.0      10.0  10 years       11                  45900.00  \n",
            "12   50000.0      15.0  15 years       11                  51000.00  \n",
            "13    9500.0       5.0   2 years       13                   9690.00  \n",
            "14    8500.0       5.0   2 years       14                   8670.00  \n",
            "15   28000.0       0.0   3 years       15                  28560.00  \n",
            "16   52000.0      20.0   5 years       16                  53040.00  \n",
            "17   10000.0       0.0    1 year       17                  10200.00  \n",
            "18   10000.0       0.0    1 year       18                  10200.00  \n",
            "19   10000.0      10.0  12 years       19                  10200.00  \n",
            "20   30000.0      20.0  15 years       20                  30600.00  \n",
            "21   80000.0       5.0   3 years       21                  81600.00  \n",
            "22  130000.0       5.0   5 years       22                 132600.00  \n",
            "23   42500.0      10.0   7 years       11                  43350.00  \n",
            "24   46666.0      15.0  10 years       11                  47599.32  \n"
          ]
        }
      ]
    },
    {
      "cell_type": "code",
      "source": [
        "# Step 3: Prepare Features for Clustering\n",
        "data = data.drop(columns=['Quantity', 'Total Price'])\n",
        "features = data[['Cluster', 'Rate', 'Discount', 'Inflation Adjusted Price']].copy()\n",
        "\n",
        "# Step 4: Normalize Features\n",
        "scaler = StandardScaler()\n",
        "scaled_features = scaler.fit_transform(features)\n",
        "\n",
        "# Step 5: Train the KNN Model\n",
        "knn = LocalOutlierFactor(n_neighbors=5, contamination=0.1)  # Adjust `contamination` as needed\n",
        "data['Anomaly Score'] = knn.fit_predict(scaled_features)\n",
        "\n",
        "# Mark anomalies\n",
        "data['Is Anomaly'] = data['Anomaly Score'] == -1\n",
        "\n",
        "print(\"\\nData with Anomaly Detection Results:\")\n",
        "print(data)"
      ],
      "metadata": {
        "colab": {
          "base_uri": "https://localhost:8080/"
        },
        "id": "6z8r0otJaCoL",
        "outputId": "18ce6444-3cc9-4c37-fc52-bec2b9802b63"
      },
      "execution_count": 15,
      "outputs": [
        {
          "output_type": "stream",
          "name": "stdout",
          "text": [
            "\n",
            "Data with Anomaly Detection Results:\n",
            "            Type Supplier                  Item Name      Rate  Discount  \\\n",
            "0        Battery        A              Battery 120AH    5000.0       5.0   \n",
            "1        Battery        B               Battery 90AH    8000.0       0.0   \n",
            "2        Battery        C              Battery 150AH    5000.0      10.0   \n",
            "3       Inverter        D               Inverter 3KW   30000.0      15.0   \n",
            "4       Inverter        E               Inverter 5KW   50000.0      20.0   \n",
            "5      Rectifier        F              Rectifier 48V    9000.0       5.0   \n",
            "6      Rectifier        G              Rectifier 24V    6000.0       0.0   \n",
            "7    Solar Panel        H           Solar Panel 200W    8300.0      10.0   \n",
            "8    Solar Panel        I           Solar Panel 300W   18500.0      15.0   \n",
            "9      Generator        J            Generator 10KVA   75000.0       0.0   \n",
            "10     Generator        K            Generator 20KVA  120000.0       0.0   \n",
            "11  Precision AC        L         Precision AC 3 Ton   45000.0      10.0   \n",
            "12  Precision AC        M         Precision AC 5 Ton   50000.0      15.0   \n",
            "13       Battery        N              Battery 110AH    9500.0       5.0   \n",
            "14       Battery        O              Battery 100AH    8500.0       5.0   \n",
            "15      Inverter        P               Inverter 2KW   28000.0       0.0   \n",
            "16      Inverter        Q               Inverter 6KW   52000.0      20.0   \n",
            "17     Rectifier        R  Rectifier 48V High Output   10000.0       0.0   \n",
            "18     Rectifier        S              Rectifier 12V   10000.0       0.0   \n",
            "19   Solar Panel        T           Solar Panel 250W   10000.0      10.0   \n",
            "20   Solar Panel        U           Solar Panel 500W   30000.0      20.0   \n",
            "21     Generator        V            Generator 15KVA   80000.0       5.0   \n",
            "22     Generator        W            Generator 25KVA  130000.0       5.0   \n",
            "23  Precision AC        X         Precision AC 2 Ton   42500.0      10.0   \n",
            "24  Precision AC        Y         Precision AC 4 Ton   46666.0      15.0   \n",
            "\n",
            "    Warranty  Cluster  Inflation Adjusted Price  Anomaly Score  Is Anomaly  \n",
            "0    2 years        0                   5100.00              1       False  \n",
            "1     1 year        1                   8160.00              1       False  \n",
            "2    3 years        2                   5100.00              1       False  \n",
            "3    2 years        3                  30600.00              1       False  \n",
            "4    5 years        4                  51000.00              1       False  \n",
            "5     1 year        5                   9180.00              1       False  \n",
            "6     1 year        6                   6120.00              1       False  \n",
            "7   10 years        7                   8466.00              1       False  \n",
            "8   15 years        8                  18870.00              1       False  \n",
            "9    3 years        9                  76500.00              1       False  \n",
            "10   5 years       10                 122400.00             -1        True  \n",
            "11  10 years       11                  45900.00              1       False  \n",
            "12  15 years       11                  51000.00              1       False  \n",
            "13   2 years       13                   9690.00              1       False  \n",
            "14   2 years       14                   8670.00              1       False  \n",
            "15   3 years       15                  28560.00              1       False  \n",
            "16   5 years       16                  53040.00              1       False  \n",
            "17    1 year       17                  10200.00              1       False  \n",
            "18    1 year       18                  10200.00              1       False  \n",
            "19  12 years       19                  10200.00              1       False  \n",
            "20  15 years       20                  30600.00              1       False  \n",
            "21   3 years       21                  81600.00             -1        True  \n",
            "22   5 years       22                 132600.00             -1        True  \n",
            "23   7 years       11                  43350.00              1       False  \n",
            "24  10 years       11                  47599.32              1       False  \n"
          ]
        }
      ]
    },
    {
      "cell_type": "code",
      "source": [
        "# Function to Check New Items\n",
        "def detect_anomaly(new_item, vectorizer, model, scaler, data_features):\n",
        "    \"\"\"\n",
        "    Detects if the new item is an anomaly.\n",
        "    :param new_item: Dict with keys Type, Supplier, Item Name, Total Price, Quantity, Rate, Discount\n",
        "    :param vectorizer: TF-IDF Vectorizer for Item Name\n",
        "    :param model: Trained KNN or LOF model\n",
        "    :param scaler: Scaler used to normalize features\n",
        "    :param data_features: Existing scaled features for training\n",
        "    :return: Boolean indicating anomaly status\n",
        "    \"\"\"\n",
        "    # Vectorize the Item Name and calculate similarity to assign a cluster\n",
        "    new_item_vector = vectorizer.transform([new_item['Item Name']])\n",
        "    similarity = cosine_similarity(new_item_vector, item_vectors)\n",
        "    cluster = np.argmax(similarity)\n",
        "\n",
        "    # Adjust Total Price for Inflation\n",
        "    inflation_adjusted_price = new_item['Rate'] * inflation_factor\n",
        "\n",
        "    # Prepare Feature Vector\n",
        "    new_features = [\n",
        "        cluster,\n",
        "        new_item['Rate'],\n",
        "        new_item['Discount'],\n",
        "        inflation_adjusted_price\n",
        "    ]\n",
        "\n",
        "    # Scale Features\n",
        "    new_features_scaled = scaler.transform([new_features])\n",
        "\n",
        "    # Predict Anomaly\n",
        "    anomaly_score = model.fit_predict(np.vstack([data_features, new_features_scaled]))\n",
        "    return anomaly_score[-1] == -1  # The last item in the prediction is the new item"
      ],
      "metadata": {
        "id": "bQ8kA6a6aCd_"
      },
      "execution_count": 16,
      "outputs": []
    },
    {
      "cell_type": "code",
      "source": [
        "# Example New Item\n",
        "new_item = {\n",
        "    \"Type\": \"Battery\",\n",
        "    \"Item Name\": \"Battery 1500AH\",\n",
        "    \"Rate\": 400,\n",
        "    \"Discount\": 10\n",
        "}\n",
        "\n",
        "is_anomaly = detect_anomaly(new_item, vectorizer, knn, scaler, scaled_features)\n",
        "print(\"\\nIs the new item an anomaly?\", is_anomaly)"
      ],
      "metadata": {
        "colab": {
          "base_uri": "https://localhost:8080/"
        },
        "id": "e1uZL4OSa-X7",
        "outputId": "1f7c2685-f700-4794-fb06-915a7b6684a3"
      },
      "execution_count": 17,
      "outputs": [
        {
          "output_type": "stream",
          "name": "stdout",
          "text": [
            "\n",
            "Is the new item an anomaly? False\n"
          ]
        },
        {
          "output_type": "stream",
          "name": "stderr",
          "text": [
            "/usr/local/lib/python3.11/dist-packages/sklearn/utils/validation.py:2739: UserWarning: X does not have valid feature names, but StandardScaler was fitted with feature names\n",
            "  warnings.warn(\n"
          ]
        }
      ]
    },
    {
      "cell_type": "code",
      "source": [],
      "metadata": {
        "id": "ZYlr2Xh-a-UB"
      },
      "execution_count": null,
      "outputs": []
    },
    {
      "cell_type": "code",
      "source": [
        "# Step 1: Normalize Item Names using TF-IDF\n",
        "vectorizer = TfidfVectorizer()\n",
        "item_vectors = vectorizer.fit_transform(data['Item Name'])\n",
        "similarity_matrix = cosine_similarity(item_vectors)\n",
        "kmeans = KMeans(n_clusters=5, random_state=42)\n",
        "data['Cluster'] = kmeans.fit_predict(item_vectors.toarray())\n",
        "\n",
        "# Step 2: Prepare Features\n",
        "inflation_factor = 1.02\n",
        "data['Inflation Adjusted Price'] = data['Rate'] * inflation_factor\n",
        "features = data[['Cluster', 'Rate', 'Discount', 'Inflation Adjusted Price']].copy()\n",
        "\n",
        "# Step 3: Normalize Features\n",
        "scaler = StandardScaler()\n",
        "scaled_features = scaler.fit_transform(features)\n",
        "\n",
        "# Step 4: Train LOF with Novelty Detection\n",
        "lof_model = LocalOutlierFactor(n_neighbors=5, contamination=0.1, novelty=True)\n",
        "lof_model.fit(scaled_features)\n",
        "\n",
        "# Mark anomalies for existing data\n",
        "data['Anomaly Score'] = lof_model.decision_function(scaled_features)\n",
        "data['Is Anomaly'] = lof_model.predict(scaled_features) == -1\n",
        "\n",
        "print(\"\\nData with Anomaly Detection Results:\")\n",
        "print(data)\n",
        "\n",
        "# Step 5: Check New Items\n",
        "def detect_anomaly(new_item, vectorizer, kmeans_model, lof_model, scaler):\n",
        "    \"\"\"\n",
        "    Detects if the new item is an anomaly.\n",
        "    \"\"\"\n",
        "    # Vectorize and cluster the new item\n",
        "    new_item_vector = vectorizer.transform([new_item['Item Name']])\n",
        "    cluster = kmeans_model.predict(new_item_vector.toarray())[0]\n",
        "\n",
        "    # Adjust price for inflation\n",
        "    inflation_adjusted_price = new_item['Rate'] * inflation_factor\n",
        "\n",
        "    # Prepare feature vector\n",
        "    new_features = [\n",
        "        cluster,\n",
        "        new_item['Rate'],\n",
        "        new_item['Discount'],\n",
        "        inflation_adjusted_price\n",
        "    ]\n",
        "\n",
        "    # Scale features\n",
        "    new_features_scaled = scaler.transform([new_features])\n",
        "\n",
        "    # Predict anomaly using LOF\n",
        "    is_anomaly = lof_model.predict(new_features_scaled)[0] == -1\n",
        "    return is_anomaly\n",
        "\n"
      ],
      "metadata": {
        "id": "POhBJGBPa-Pk",
        "colab": {
          "base_uri": "https://localhost:8080/"
        },
        "outputId": "bb846ebd-0c3e-4c73-e876-15ed77159c8b"
      },
      "execution_count": 26,
      "outputs": [
        {
          "output_type": "stream",
          "name": "stdout",
          "text": [
            "\n",
            "Data with Anomaly Detection Results:\n",
            "            Type Supplier                  Item Name  Total Price  Quantity  \\\n",
            "0        Battery        A              Battery 120AH        10000         2   \n",
            "1        Battery        B               Battery 90AH         8000         1   \n",
            "2        Battery        C              Battery 150AH        15000         3   \n",
            "3       Inverter        D               Inverter 3KW        30000         1   \n",
            "4       Inverter        E               Inverter 5KW        50000         1   \n",
            "5      Rectifier        F              Rectifier 48V        18000         2   \n",
            "6      Rectifier        G              Rectifier 24V        12000         2   \n",
            "7    Solar Panel        H           Solar Panel 200W        25000         3   \n",
            "8    Solar Panel        I           Solar Panel 300W        37000         2   \n",
            "9      Generator        J            Generator 10KVA        75000         1   \n",
            "10     Generator        K            Generator 20KVA       120000         1   \n",
            "11  Precision AC        L         Precision AC 3 Ton        90000         2   \n",
            "12  Precision AC        M         Precision AC 5 Ton       150000         3   \n",
            "13       Battery        N              Battery 110AH         9500         1   \n",
            "14       Battery        O              Battery 100AH         8500         1   \n",
            "15      Inverter        P               Inverter 2KW        28000         1   \n",
            "16      Inverter        Q               Inverter 6KW        52000         1   \n",
            "17     Rectifier        R  Rectifier 48V High Output        20000         2   \n",
            "18     Rectifier        S              Rectifier 12V        10000         1   \n",
            "19   Solar Panel        T           Solar Panel 250W        30000         3   \n",
            "20   Solar Panel        U           Solar Panel 500W        60000         2   \n",
            "21     Generator        V            Generator 15KVA        80000         1   \n",
            "22     Generator        W            Generator 25KVA       130000         1   \n",
            "23  Precision AC        X         Precision AC 2 Ton        85000         2   \n",
            "24  Precision AC        Y         Precision AC 4 Ton       140000         3   \n",
            "\n",
            "      Rate  Discount  Warranty  Cluster  Inflation Adjusted Price  \\\n",
            "0     5000         5   2 years        2                   5100.00   \n",
            "1     8000         0    1 year        2                   8160.00   \n",
            "2     5000        10   3 years        2                   5100.00   \n",
            "3    30000        15   2 years        3                  30600.00   \n",
            "4    50000        20   5 years        3                  51000.00   \n",
            "5     9000         5    1 year        4                   9180.00   \n",
            "6     6000         0    1 year        4                   6120.00   \n",
            "7     8300        10  10 years        3                   8466.00   \n",
            "8    18500        15  15 years        3                  18870.00   \n",
            "9    75000         0   3 years        0                  76500.00   \n",
            "10  120000         0   5 years        0                 122400.00   \n",
            "11   45000        10  10 years        1                  45900.00   \n",
            "12   50000        15  15 years        1                  51000.00   \n",
            "13    9500         5   2 years        2                   9690.00   \n",
            "14    8500         5   2 years        2                   8670.00   \n",
            "15   28000         0   3 years        3                  28560.00   \n",
            "16   52000        20   5 years        3                  53040.00   \n",
            "17   10000         0    1 year        4                  10200.00   \n",
            "18   10000         0    1 year        4                  10200.00   \n",
            "19   10000        10  12 years        3                  10200.00   \n",
            "20   30000        20  15 years        3                  30600.00   \n",
            "21   80000         5   3 years        0                  81600.00   \n",
            "22  130000         5   5 years        0                 132600.00   \n",
            "23   42500        10   7 years        1                  43350.00   \n",
            "24   46666        15  10 years        1                  47599.32   \n",
            "\n",
            "    Anomaly Score  Is Anomaly  \n",
            "0        0.223691       False  \n",
            "1        0.192343       False  \n",
            "2        0.273573       False  \n",
            "3        0.163190       False  \n",
            "4        0.129564       False  \n",
            "5        0.174345       False  \n",
            "6        0.215935       False  \n",
            "7        0.260598       False  \n",
            "8        0.187663       False  \n",
            "9        0.129480       False  \n",
            "10       0.019810       False  \n",
            "11       0.251628       False  \n",
            "12       0.198246       False  \n",
            "13       0.223691       False  \n",
            "14       0.223691       False  \n",
            "15       0.129272       False  \n",
            "16       0.118065       False  \n",
            "17       0.215935       False  \n",
            "18       0.215935       False  \n",
            "19       0.260575       False  \n",
            "20       0.171580       False  \n",
            "21       0.176218       False  \n",
            "22       0.007826       False  \n",
            "23       0.091486       False  \n",
            "24       0.171983       False  \n"
          ]
        }
      ]
    },
    {
      "cell_type": "code",
      "source": [
        "# Example New Item\n",
        "new_item = {\n",
        "    \"Type\": \"Battery\",\n",
        "    \"Item Name\": \"Battery 15AH\",\n",
        "    \"Rate\": 7400,\n",
        "    \"Discount\": 1\n",
        "}\n",
        "\n",
        "is_anomaly = detect_anomaly(new_item, vectorizer, kmeans, lof_model, scaler)\n",
        "print(\"\\nIs the new item an anomaly?\", is_anomaly)"
      ],
      "metadata": {
        "colab": {
          "base_uri": "https://localhost:8080/"
        },
        "id": "YjUuqsTKqgl9",
        "outputId": "a76de893-2961-4258-c491-784172a78468"
      },
      "execution_count": 30,
      "outputs": [
        {
          "output_type": "stream",
          "name": "stdout",
          "text": [
            "\n",
            "Is the new item an anomaly? False\n"
          ]
        },
        {
          "output_type": "stream",
          "name": "stderr",
          "text": [
            "/usr/local/lib/python3.11/dist-packages/sklearn/utils/validation.py:2739: UserWarning: X does not have valid feature names, but StandardScaler was fitted with feature names\n",
            "  warnings.warn(\n"
          ]
        }
      ]
    }
  ]
}