{
  "nbformat": 4,
  "nbformat_minor": 0,
  "metadata": {
    "colab": {
      "provenance": [],
      "authorship_tag": "ABX9TyNupiNknVjf5AAzZCYbO7k5",
      "include_colab_link": true
    },
    "kernelspec": {
      "name": "python3",
      "display_name": "Python 3"
    },
    "language_info": {
      "name": "python"
    }
  },
  "cells": [
    {
      "cell_type": "markdown",
      "metadata": {
        "id": "view-in-github",
        "colab_type": "text"
      },
      "source": [
        "<a href=\"https://colab.research.google.com/github/Esandu-Meth-Obadaarachchi/ItempricePrediction/blob/main/PricePrediction.ipynb\" target=\"_parent\"><img src=\"https://colab.research.google.com/assets/colab-badge.svg\" alt=\"Open In Colab\"/></a>"
      ]
    },
    {
      "cell_type": "code",
      "execution_count": 1,
      "metadata": {
        "id": "GqoYZxE6Yzw0"
      },
      "outputs": [],
      "source": [
        "import pandas as pd\n",
        "import numpy as np\n",
        "from sklearn.preprocessing import StandardScaler\n",
        "from sklearn.impute import SimpleImputer\n",
        "from sklearn.feature_extraction.text import TfidfVectorizer\n",
        "from sklearn.metrics.pairwise import cosine_similarity\n",
        "from sklearn.neighbors import LocalOutlierFactor"
      ]
    },
    {
      "cell_type": "code",
      "source": [
        "# Load the data\n",
        "data = pd.DataFrame({\n",
        "    \"Type\": [\"Battery\", \"Battery\", \"Battery\", \"Inverter\"],\n",
        "    \"Supplier\": [\"A\", \"B\", \"C\", \"D\"],\n",
        "    \"Item Name\": [\"Battery 120AH\", \"120AH Battery\", \"Battery 90AH\", \"Inverter 5KW\"],\n",
        "    \"Total Price\": [10000, 10500, 7000, 50000],\n",
        "    \"Quantity\": [2, 2, 1, 1],\n",
        "    \"Rate\": [5000, 5250, 7000, 50000],\n",
        "    \"Discount\": [5, 5, 0, 10],\n",
        "    \"Warranty\": [\"2 years\", \"2 years\", \"1 year\", \"5 years\"]\n",
        "})\n",
        "\n",
        "\n",
        "import pandas as pd\n",
        "\n",
        "data = pd.DataFrame({\n",
        "    \"Type\": [\n",
        "        \"Battery\", \"Battery\", \"Battery\", \"Inverter\", \"Inverter\", \"Rectifier\", \"Rectifier\", \"Solar Panel\",\n",
        "        \"Solar Panel\", \"Generator\", \"Generator\", \"Precision AC\", \"Precision AC\", \"Battery\", \"Battery\",\n",
        "        \"Inverter\", \"Inverter\", \"Rectifier\", \"Rectifier\", \"Solar Panel\", \"Solar Panel\", \"Generator\",\n",
        "        \"Generator\", \"Precision AC\", \"Precision AC\"\n",
        "    ],\n",
        "    \"Supplier\": [\n",
        "        \"A\", \"B\", \"C\", \"D\", \"E\", \"F\", \"G\", \"H\", \"I\", \"J\", \"K\", \"L\", \"M\", \"N\", \"O\", \"P\", \"Q\", \"R\", \"S\",\n",
        "        \"T\", \"U\", \"V\", \"W\", \"X\", \"Y\"\n",
        "    ],\n",
        "    \"Item Name\": [\n",
        "        \"Battery 120AH\", \"Battery 90AH\", \"Battery 150AH\", \"Inverter 3KW\", \"Inverter 5KW\",\n",
        "        \"Rectifier 48V\", \"Rectifier 24V\", \"Solar Panel 200W\", \"Solar Panel 300W\", \"Generator 10KVA\",\n",
        "        \"Generator 20KVA\", \"Precision AC 3 Ton\", \"Precision AC 5 Ton\", \"Battery 110AH\",\n",
        "        \"Battery 100AH\", \"Inverter 2KW\", \"Inverter 6KW\", \"Rectifier 48V High Output\",\n",
        "        \"Rectifier 12V\", \"Solar Panel 250W\", \"Solar Panel 500W\", \"Generator 15KVA\", \"Generator 25KVA\",\n",
        "        \"Precision AC 2 Ton\", \"Precision AC 4 Ton\"\n",
        "    ],\n",
        "    \"Total Price\": [\n",
        "        10000, 8000, 15000, 30000, 50000, 18000, 12000, 25000, 37000, 75000, 120000, 90000, 150000,\n",
        "        9500, 8500, 28000, 52000, 20000, 10000, 30000, 60000, 80000, 130000, 85000, 140000\n",
        "    ],\n",
        "    \"Quantity\": [\n",
        "        2, 1, 3, 1, 1, 2, 2, 3, 2, 1, 1, 2, 3, 1, 1, 1, 1, 2, 1, 3, 2, 1, 1, 2, 3\n",
        "    ],\n",
        "    \"Rate\": [\n",
        "        5000, 8000, 5000, 30000, 50000, 9000, 6000, 8300, 18500, 75000, 120000, 45000, 50000,\n",
        "        9500, 8500, 28000, 52000, 10000, 10000, 10000, 30000, 80000, 130000, 42500, 46666\n",
        "    ],\n",
        "    \"Discount\": [\n",
        "        5, 0, 10, 15, 20, 5, 0, 10, 15, 0, 0, 10, 15, 5, 5, 0, 20, 0, 0, 10, 20, 5, 5, 10, 15\n",
        "    ],\n",
        "    \"Warranty\": [\n",
        "        \"2 years\", \"1 year\", \"3 years\", \"2 years\", \"5 years\", \"1 year\", \"1 year\", \"10 years\",\n",
        "        \"15 years\", \"3 years\", \"5 years\", \"10 years\", \"15 years\", \"2 years\", \"2 years\", \"3 years\",\n",
        "        \"5 years\", \"1 year\", \"1 year\", \"12 years\", \"15 years\", \"3 years\", \"5 years\", \"7 years\", \"10 years\"\n",
        "    ]\n",
        "})\n",
        "\n",
        "print(data)\n"
      ],
      "metadata": {
        "id": "TxOIN33LaC3w"
      },
      "execution_count": 2,
      "outputs": []
    },
    {
      "cell_type": "code",
      "source": [
        "# Step 1.1: Handle Missing Values\n",
        "imputer = SimpleImputer(strategy='mean')\n",
        "data[['Total Price', 'Quantity', 'Rate', 'Discount']] = imputer.fit_transform(data[['Total Price', 'Quantity', 'Rate', 'Discount']])"
      ],
      "metadata": {
        "id": "UahrFhroaC19"
      },
      "execution_count": 3,
      "outputs": []
    },
    {
      "cell_type": "code",
      "source": [
        "# Step 1.2: Normalize Item Names using TF-IDF\n",
        "vectorizer = TfidfVectorizer()\n",
        "item_vectors = vectorizer.fit_transform(data['Item Name'])\n",
        "similarity_matrix = cosine_similarity(item_vectors)\n",
        "data['Cluster'] = np.argmax(similarity_matrix, axis=1)  # Cluster similar items"
      ],
      "metadata": {
        "id": "zNgbPq33aCz7"
      },
      "execution_count": 4,
      "outputs": []
    },
    {
      "cell_type": "code",
      "source": [
        "# Step 1.3: Adjust for Inflation (Assume inflation index is provided)\n",
        "# Example inflation adjustment (factor = 1.02 for 2% inflation rate)\n",
        "inflation_factor = 1.02\n",
        "data['Inflation Adjusted Price'] = data['Total Price'] * inflation_factor"
      ],
      "metadata": {
        "id": "Do4ckFLhaCvL"
      },
      "execution_count": 5,
      "outputs": []
    },
    {
      "cell_type": "code",
      "source": [
        "print(\"Preprocessed Data:\")\n",
        "print(data)"
      ],
      "metadata": {
        "colab": {
          "base_uri": "https://localhost:8080/"
        },
        "id": "U6iWjjRyaCsp",
        "outputId": "84bcb6e2-2cd7-41fe-9b77-ee151979a2ed"
      },
      "execution_count": 6,
      "outputs": [
        {
          "output_type": "stream",
          "name": "stdout",
          "text": [
            "Preprocessed Data:\n",
            "       Type Supplier      Item Name  Total Price  Quantity     Rate  Discount  \\\n",
            "0   Battery        A  Battery 120AH      10000.0       2.0   5000.0       5.0   \n",
            "1   Battery        B  120AH Battery      10500.0       2.0   5250.0       5.0   \n",
            "2   Battery        C   Battery 90AH       7000.0       1.0   7000.0       0.0   \n",
            "3  Inverter        D   Inverter 5KW      50000.0       1.0  50000.0      10.0   \n",
            "\n",
            "  Warranty  Cluster  Inflation Adjusted Price  \n",
            "0  2 years        0                   10200.0  \n",
            "1  2 years        0                   10710.0  \n",
            "2   1 year        2                    7140.0  \n",
            "3  5 years        3                   51000.0  \n"
          ]
        }
      ]
    },
    {
      "cell_type": "code",
      "source": [
        "# Prepare features for clustering\n",
        "features = data[['Cluster', 'Quantity', 'Rate', 'Discount', 'Inflation Adjusted Price']].copy()\n",
        "\n",
        "# Normalize features\n",
        "scaler = StandardScaler()\n",
        "scaled_features = scaler.fit_transform(features)\n",
        "\n",
        "# Train the KNN model\n",
        "knn = LocalOutlierFactor(n_neighbors=5, contamination=0.1)  # Adjust `contamination` as needed\n",
        "data['Anomaly Score'] = knn.fit_predict(scaled_features)\n",
        "\n",
        "# Mark anomalies\n",
        "data['Is Anomaly'] = data['Anomaly Score'] == -1\n",
        "\n",
        "print(\"\\nData with Anomaly Detection Results:\")\n",
        "print(data)"
      ],
      "metadata": {
        "colab": {
          "base_uri": "https://localhost:8080/"
        },
        "id": "6z8r0otJaCoL",
        "outputId": "7aa0fe02-7c3c-47d6-fcec-f9d5bac5aa56"
      },
      "execution_count": 7,
      "outputs": [
        {
          "output_type": "stream",
          "name": "stdout",
          "text": [
            "\n",
            "Data with Anomaly Detection Results:\n",
            "       Type Supplier      Item Name  Total Price  Quantity     Rate  Discount  \\\n",
            "0   Battery        A  Battery 120AH      10000.0       2.0   5000.0       5.0   \n",
            "1   Battery        B  120AH Battery      10500.0       2.0   5250.0       5.0   \n",
            "2   Battery        C   Battery 90AH       7000.0       1.0   7000.0       0.0   \n",
            "3  Inverter        D   Inverter 5KW      50000.0       1.0  50000.0      10.0   \n",
            "\n",
            "  Warranty  Cluster  Inflation Adjusted Price  Anomaly Score  Is Anomaly  \n",
            "0  2 years        0                   10200.0              1       False  \n",
            "1  2 years        0                   10710.0              1       False  \n",
            "2   1 year        2                    7140.0             -1        True  \n",
            "3  5 years        3                   51000.0              1       False  \n"
          ]
        },
        {
          "output_type": "stream",
          "name": "stderr",
          "text": [
            "/usr/local/lib/python3.11/dist-packages/sklearn/neighbors/_lof.py:282: UserWarning: n_neighbors (5) is greater than the total number of samples (4). n_neighbors will be set to (n_samples - 1) for estimation.\n",
            "  warnings.warn(\n"
          ]
        }
      ]
    },
    {
      "cell_type": "code",
      "source": [
        "# Function to check if a new item is an anomaly\n",
        "def detect_anomaly(new_item, model, scaler, data_features):\n",
        "    # Scale new item\n",
        "    new_item_scaled = scaler.transform([new_item])\n",
        "\n",
        "    # Predict anomaly\n",
        "    anomaly_score = model.fit_predict(np.vstack([data_features, new_item_scaled]))\n",
        "\n",
        "    # Return if the new item is an anomaly\n",
        "    return anomaly_score[-1] == -1\n",
        "\n",
        "# Example new item\n",
        "new_item = [1, 2, 6000, 5, 10200]  # Cluster, Quantity, Rate, Discount, Inflation Adjusted Price\n",
        "is_anomaly = detect_anomaly(new_item, knn, scaler, scaled_features)\n",
        "\n",
        "print(\"\\nIs the new item an anomaly?\", is_anomaly)"
      ],
      "metadata": {
        "colab": {
          "base_uri": "https://localhost:8080/"
        },
        "id": "bQ8kA6a6aCd_",
        "outputId": "bcaaa059-9154-4cf7-ad79-cbfa372068e1"
      },
      "execution_count": 8,
      "outputs": [
        {
          "output_type": "stream",
          "name": "stdout",
          "text": [
            "\n",
            "Is the new item an anomaly? True\n"
          ]
        },
        {
          "output_type": "stream",
          "name": "stderr",
          "text": [
            "/usr/local/lib/python3.11/dist-packages/sklearn/utils/validation.py:2739: UserWarning: X does not have valid feature names, but StandardScaler was fitted with feature names\n",
            "  warnings.warn(\n"
          ]
        }
      ]
    },
    {
      "cell_type": "code",
      "source": [],
      "metadata": {
        "id": "e1uZL4OSa-X7"
      },
      "execution_count": null,
      "outputs": []
    },
    {
      "cell_type": "code",
      "source": [],
      "metadata": {
        "id": "ZYlr2Xh-a-UB"
      },
      "execution_count": null,
      "outputs": []
    },
    {
      "cell_type": "code",
      "source": [],
      "metadata": {
        "id": "POhBJGBPa-Pk"
      },
      "execution_count": null,
      "outputs": []
    }
  ]
}